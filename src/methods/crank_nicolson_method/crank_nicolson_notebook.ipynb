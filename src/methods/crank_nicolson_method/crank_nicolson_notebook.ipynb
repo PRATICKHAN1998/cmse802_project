{
 "cells": [
  {
   "cell_type": "markdown",
   "id": "a7806dd5-e398-436e-be29-d4bbc25970f6",
   "metadata": {},
   "source": [
    "This notebook is used to resolve formating and linting issues for the codes dedicated to Crank-Nicolson method. Also, this notebook is used to generate plots and analysis for visualization purposes."
   ]
  },
  {
   "cell_type": "code",
   "execution_count": 1,
   "id": "168c741d-1eda-4c20-a7cc-bd43e6fd0c6f",
   "metadata": {},
   "outputs": [],
   "source": [
    "#!flake8 crank_nicolson_square_well.py --count"
   ]
  },
  {
   "cell_type": "code",
   "execution_count": 3,
   "id": "28c05265-673e-4ab9-8b87-75e73becf8ae",
   "metadata": {},
   "outputs": [
    {
     "name": "stdout",
     "output_type": "stream",
     "text": [
      "\u001b[1mreformatted crank_nicolson_square_well.py\u001b[0m\n",
      "\n",
      "\u001b[1mAll done! ✨ 🍰 ✨\u001b[0m\n",
      "\u001b[34m\u001b[1m1 file \u001b[0m\u001b[1mreformatted\u001b[0m.\n"
     ]
    }
   ],
   "source": [
    "!black crank_nicolson_square_well.py"
   ]
  },
  {
   "cell_type": "code",
   "execution_count": 5,
   "id": "02d9fb99-dbd9-4674-a210-0d9db68e2f80",
   "metadata": {},
   "outputs": [],
   "source": [
    "#!flake8 crank_nicolson_harmonic_well.py --count"
   ]
  },
  {
   "cell_type": "code",
   "execution_count": 7,
   "id": "f7164ef4-1fa3-460b-9e06-0aef5b5a3ad3",
   "metadata": {},
   "outputs": [
    {
     "name": "stdout",
     "output_type": "stream",
     "text": [
      "\u001b[1mreformatted crank_nicolson_harmonic_well.py\u001b[0m\n",
      "\n",
      "\u001b[1mAll done! ✨ 🍰 ✨\u001b[0m\n",
      "\u001b[34m\u001b[1m1 file \u001b[0m\u001b[1mreformatted\u001b[0m.\n"
     ]
    }
   ],
   "source": [
    "!black crank_nicolson_harmonic_well.py"
   ]
  },
  {
   "cell_type": "code",
   "execution_count": 9,
   "id": "60d04de3-0e44-41f2-90a0-5974a14d54d2",
   "metadata": {},
   "outputs": [],
   "source": [
    "#!flake8 crank_nicolson_double_well.py"
   ]
  },
  {
   "cell_type": "code",
   "execution_count": 11,
   "id": "71bbd262-d0a6-4fc0-8ae7-f99b41c78747",
   "metadata": {},
   "outputs": [
    {
     "name": "stdout",
     "output_type": "stream",
     "text": [
      "\u001b[1mreformatted crank_nicolson_double_well.py\u001b[0m\n",
      "\n",
      "\u001b[1mAll done! ✨ 🍰 ✨\u001b[0m\n",
      "\u001b[34m\u001b[1m1 file \u001b[0m\u001b[1mreformatted\u001b[0m.\n"
     ]
    }
   ],
   "source": [
    "!black crank_nicolson_double_well.py"
   ]
  },
  {
   "cell_type": "code",
   "execution_count": 13,
   "id": "28472eac-040e-47c9-8885-c4f83fbe908d",
   "metadata": {},
   "outputs": [],
   "source": [
    "#!flake8 crank_nicolson_step_well.py"
   ]
  },
  {
   "cell_type": "code",
   "execution_count": 15,
   "id": "9ed51901-e38d-41cd-bad3-28ead712f592",
   "metadata": {},
   "outputs": [
    {
     "name": "stdout",
     "output_type": "stream",
     "text": [
      "\u001b[1mreformatted crank_nicolson_step_well.py\u001b[0m\n",
      "\n",
      "\u001b[1mAll done! ✨ 🍰 ✨\u001b[0m\n",
      "\u001b[34m\u001b[1m1 file \u001b[0m\u001b[1mreformatted\u001b[0m.\n"
     ]
    }
   ],
   "source": [
    "!black crank_nicolson_step_well.py"
   ]
  },
  {
   "cell_type": "code",
   "execution_count": null,
   "id": "c17654b0-2e4c-4cd6-b84d-b53b0861ed1b",
   "metadata": {},
   "outputs": [],
   "source": []
  }
 ],
 "metadata": {
  "kernelspec": {
   "display_name": "Python [conda env:base] *",
   "language": "python",
   "name": "conda-base-py"
  },
  "language_info": {
   "codemirror_mode": {
    "name": "ipython",
    "version": 3
   },
   "file_extension": ".py",
   "mimetype": "text/x-python",
   "name": "python",
   "nbconvert_exporter": "python",
   "pygments_lexer": "ipython3",
   "version": "3.10.9"
  }
 },
 "nbformat": 4,
 "nbformat_minor": 5
}
