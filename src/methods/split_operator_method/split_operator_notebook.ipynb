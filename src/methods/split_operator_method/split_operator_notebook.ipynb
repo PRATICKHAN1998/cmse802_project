{
 "cells": [
  {
   "cell_type": "markdown",
   "id": "f33978b4-7182-454b-94c2-482fc14fd5c8",
   "metadata": {},
   "source": [
    "This notebook is used to resolve formating and linting issues for the codes dedicated to split-operator method. Also, this notebook is used to generate plots and analysis for visualization purposes."
   ]
  },
  {
   "cell_type": "code",
   "execution_count": 18,
   "id": "276c287f-f678-4999-9a38-c3511c5d690f",
   "metadata": {},
   "outputs": [],
   "source": [
    "#!flake8 split_operator_square_well.py --count"
   ]
  },
  {
   "cell_type": "code",
   "execution_count": 20,
   "id": "7b9ef493-d539-4591-981a-325c84f5e667",
   "metadata": {},
   "outputs": [
    {
     "name": "stdout",
     "output_type": "stream",
     "text": [
      "\u001b[1mAll done! ✨ 🍰 ✨\u001b[0m\n",
      "\u001b[34m1 file \u001b[0mleft unchanged.\n"
     ]
    }
   ],
   "source": [
    "!black split_operator_square_well.py"
   ]
  },
  {
   "cell_type": "code",
   "execution_count": 22,
   "id": "f258ab56-2357-48dc-9280-a14a97f6433b",
   "metadata": {},
   "outputs": [],
   "source": [
    "#!flake8 split_operator_harmonic_well.py --count"
   ]
  },
  {
   "cell_type": "code",
   "execution_count": 24,
   "id": "56bb3aef-76e9-4209-9813-129c1fb93cec",
   "metadata": {},
   "outputs": [
    {
     "name": "stdout",
     "output_type": "stream",
     "text": [
      "\u001b[1mAll done! ✨ 🍰 ✨\u001b[0m\n",
      "\u001b[34m1 file \u001b[0mleft unchanged.\n"
     ]
    }
   ],
   "source": [
    "!black split_operator_harmonic_well.py"
   ]
  },
  {
   "cell_type": "code",
   "execution_count": 26,
   "id": "4133359b-90e2-49b2-9289-fbb16a3c7461",
   "metadata": {},
   "outputs": [],
   "source": [
    "#!flake8 split_operator_double_well.py --count"
   ]
  },
  {
   "cell_type": "code",
   "execution_count": 28,
   "id": "eeb9145e-cbd9-44c7-8993-3e38a54d6dc3",
   "metadata": {},
   "outputs": [
    {
     "name": "stdout",
     "output_type": "stream",
     "text": [
      "\u001b[1mAll done! ✨ 🍰 ✨\u001b[0m\n",
      "\u001b[34m1 file \u001b[0mleft unchanged.\n"
     ]
    }
   ],
   "source": [
    "!black split_operator_double_well.py"
   ]
  },
  {
   "cell_type": "code",
   "execution_count": 30,
   "id": "fcc11fed-8dab-47a8-9037-efac6ce8a10f",
   "metadata": {},
   "outputs": [],
   "source": [
    "#!flake8 split_operator_step_well.py --count"
   ]
  },
  {
   "cell_type": "code",
   "execution_count": 32,
   "id": "dc931f2e-ab6b-4c11-88ca-62f38bd0e3f8",
   "metadata": {},
   "outputs": [
    {
     "name": "stdout",
     "output_type": "stream",
     "text": [
      "\u001b[1mAll done! ✨ 🍰 ✨\u001b[0m\n",
      "\u001b[34m1 file \u001b[0mleft unchanged.\n"
     ]
    }
   ],
   "source": [
    "!black split_operator_step_well.py"
   ]
  },
  {
   "cell_type": "code",
   "execution_count": null,
   "id": "66e3be6e-e321-4b01-8d9b-5cc4752b1a06",
   "metadata": {},
   "outputs": [],
   "source": []
  },
  {
   "cell_type": "code",
   "execution_count": null,
   "id": "1aa5e5f3-27e3-42ea-9555-e6c352bf1c11",
   "metadata": {},
   "outputs": [],
   "source": []
  },
  {
   "cell_type": "code",
   "execution_count": null,
   "id": "20f054f8-24e3-4fab-98c9-e53710285cce",
   "metadata": {},
   "outputs": [],
   "source": []
  }
 ],
 "metadata": {
  "kernelspec": {
   "display_name": "Python [conda env:base] *",
   "language": "python",
   "name": "conda-base-py"
  },
  "language_info": {
   "codemirror_mode": {
    "name": "ipython",
    "version": 3
   },
   "file_extension": ".py",
   "mimetype": "text/x-python",
   "name": "python",
   "nbconvert_exporter": "python",
   "pygments_lexer": "ipython3",
   "version": "3.10.9"
  }
 },
 "nbformat": 4,
 "nbformat_minor": 5
}
